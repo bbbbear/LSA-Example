{
 "cells": [
  {
   "cell_type": "markdown",
   "metadata": {},
   "source": [
    "# LSA Example\n",
    "## 1. โหลด example data จากไฟล์\n",
    "## 2. Prepare data\n",
    "1. Remove stopword\n",
    "2. Stemmer\n",
    "3. TF-IDF Vectorizer\n",
    "\n",
    "## 3. Create model ทำ SVD เพื่อให้ได้ matrix\n",
    "- matrix V.T (topic-term matrix)\n",
    "- matrix U (document-topic matrix)\n",
    "- matrix sigma (topic strength matrix)\n",
    "\n",
    "## 4. การนำไปใช้\n",
    "- [Unsupervised Machine Learning] ใช้ matrix V.T (lsa_model.components_.T) บน new data เพื่อให้ทราบ hidden topic ของ new data(matrix U) เพื่อจัดกลุ่มตาม latent topic\n",
    "- [Dimensionality Reduction for Supervised Machine Learning] ปรับ n_components ของ TruncatedSVD(n_components=5) ตามสมควรเพื่อลด dimension ของ data(เดิมเป็น document - terms) เป็น document - latent topic เพื่อใช้เป็น features ในกระบวนการ classification ต่อไป\n"
   ]
  },
  {
   "cell_type": "markdown",
   "metadata": {},
   "source": [
    "## 1. โหลด example data จากไฟล์\n",
    "#### ไฟล์ข้อมูลนี้ถูกแปลง/เตรียมมาก่อนแล้วระดับหนึ่ง\n",
    "##### สามารถดูไฟล์เต็มๆได้บน <a href=\"https://www.kaggle.com/bittlingmayer/amazonreviews/downloads/amazonreviews.zip\" target=\"_blank\">Kaggle ที่นี่</a>"
   ]
  },
  {
   "cell_type": "code",
   "execution_count": 1,
   "metadata": {},
   "outputs": [],
   "source": [
    "import nltk\n",
    "import pandas as pd\n",
    "import numpy as np\n",
    "import re\n",
    "from sklearn.neighbors import KNeighborsClassifier\n",
    "from sklearn.decomposition import TruncatedSVD\n",
    "from sklearn.feature_extraction.text import TfidfVectorizer\n",
    "from sklearn.metrics import accuracy_score\n",
    "\n",
    "raw_data = pd.read_csv('dataset-lsa.csv',nrows =20000)\n",
    "#split data into train test\n",
    "test_raw = raw_data.iloc[0:500,:]\n",
    "train_raw = raw_data.iloc[500:20000,:]"
   ]
  },
  {
   "cell_type": "markdown",
   "metadata": {},
   "source": [
    "## 2. Prepare data\n",
    "1. Remove stopword\n",
    "2. Stemmer\n",
    "3. TF-IDF Vectorizer"
   ]
  },
  {
   "cell_type": "code",
   "execution_count": 2,
   "metadata": {},
   "outputs": [],
   "source": [
    "# my custom preprocessor\n",
    "# Use stemmer\n",
    "# Filter stopword\n",
    "def preprocessor(content):\n",
    "    content = content.lower()\n",
    "    content = re.sub(r'[^\\w]', ' ', content)\n",
    "    _stemmer = nltk.stem.porter.PorterStemmer()\n",
    "    stopword = nltk.corpus.stopwords.words('english')\n",
    "    token = nltk.tokenize.word_tokenize(content)\n",
    "    new_content = \"\"\n",
    "    for x in token:\n",
    "        if x not in stopword:\n",
    "            new_content += _stemmer.stem(x)+' '\n",
    "    return new_content[:-1]"
   ]
  },
  {
   "cell_type": "code",
   "execution_count": 3,
   "metadata": {},
   "outputs": [],
   "source": [
    "# remove stopword\n",
    "# concat as a list of string\n",
    "def transform(data,vectorizer = None):\n",
    "    if not vectorizer:\n",
    "        vectorizer = TfidfVectorizer(preprocessor=preprocessor, tokenizer=nltk.tokenize.word_tokenize)\n",
    "        processedData = vectorizer.fit_transform(data)\n",
    "    else:\n",
    "        processedData = vectorizer.transform(data)\n",
    "    return processedData, vectorizer\n",
    "train_data, vectorizer = transform(train_raw.content)"
   ]
  },
  {
   "cell_type": "markdown",
   "metadata": {},
   "source": [
    "## 3. Create model ทำ SVD เพื่อให้ได้ matrix V.T U Sigma หลังจากนั้น show first 15 domiant words of each topic\n",
    " 1. matrix V.T (topic-term matrix)\n",
    " 2. matrix U (document-topic matrix)\n",
    " 3. matrix sigma (topic strength matrix)"
   ]
  },
  {
   "cell_type": "code",
   "execution_count": 4,
   "metadata": {},
   "outputs": [
    {
     "data": {
      "text/plain": [
       "TruncatedSVD(algorithm='randomized', n_components=6, n_iter=5,\n",
       "       random_state=None, tol=0.0)"
      ]
     },
     "execution_count": 4,
     "metadata": {},
     "output_type": "execute_result"
    }
   ],
   "source": [
    "#run SVD (using truncated to reduce the computational power required as it can limit the number of topics)\n",
    "lsa_model = TruncatedSVD(n_components=6)\n",
    "lsa_model.fit(train_data)"
   ]
  },
  {
   "cell_type": "markdown",
   "metadata": {},
   "source": [
    "- หากต้องการ matrix U หลังจาก fit สามารถใช้ .fit_transform แทน .fit ได้ โดยจะ return matrix U สำหรับ data\n",
    "- หลังจากทำการ SVD แล้วสามารถเข้าถึง V.T U sigma ได้ดังนี้\n",
    " - V.T คือ  lsa_model.components_\n",
    " - sigma คือ lsa_model.singular_values_ ในรูปแบบของลิสต์ หากต้องการใช้ต้องสร้างเป็น diagonal matrix ก่อน\n",
    " - U หากไม่ได้ใช้ fit_transform มาตั้งแต่แรก สามารถใช้ lsa_model.transform(train_data) ใหม่ได้ เพื่อให้ return matrix U ออกมา\n",
    "   - วิธีการเดียวกันสามารถนำ new data มา transfrom ได้เพื่อให้ทราบถึง latent topic จาก matrix U\n",
    "   - สามารถใช้ matrix V.T เพื่อสร้าง matrix U สำหรับ new data ได้โดยใช้ docment_term_matrix dot product กับ V.T ได้ แทนการใช้ lsa_model.transform(test_data)"
   ]
  },
  {
   "cell_type": "code",
   "execution_count": 5,
   "metadata": {},
   "outputs": [
    {
     "name": "stdout",
     "output_type": "stream",
     "text": [
      "important terms of each latent topic\n",
      "Topic 0: book movi read one great good like time love get would stori realli first work \n",
      "Topic 1: book read author page write stori written novel reader interest charact inform chapter finish seri \n",
      "Topic 2: movi book watch film read stori seen act charact plot bore see funni scene actor \n",
      "Topic 3: album cd song movi music listen book best love read band favorit rock ever stori \n",
      "Topic 4: great love cd dvd price easi enjoy excel movi recommend christma book fun old son \n",
      "Topic 5: cd book movi dvd buy money wast product qualiti amazon would disappoint order sound player \n"
     ]
    }
   ],
   "source": [
    "# Show important terms of each latent topic\n",
    "print('important terms of each latent topic')\n",
    "terms = vectorizer.get_feature_names()\n",
    "for i, comp in enumerate(lsa_model.components_):\n",
    "    terms_comp = zip(terms, comp)\n",
    "    sorted_terms = sorted(terms_comp, key= lambda x:x[1], reverse=True)[:15]\n",
    "    print(\"Topic \"+str(i)+\": \",end=\"\")\n",
    "    for t in sorted_terms:\n",
    "        print(t[0],end=\" \")\n",
    "    print(\"\")"
   ]
  },
  {
   "cell_type": "code",
   "execution_count": 6,
   "metadata": {},
   "outputs": [],
   "source": [
    "#Show 5 documents of each latent topic\n",
    "def print_samples(y,data):\n",
    "    for level in set(y):\n",
    "        print('Topic :',level)\n",
    "        try:\n",
    "            sample_data = data.iloc[y == level].sample(n=5).content.values\n",
    "        except:\n",
    "            sample_data = data.iloc[y == level].content.values\n",
    "        for sample in sample_data:\n",
    "            print('\\t-',sample)\n",
    "        print('-----------------------------\\n\\n')"
   ]
  },
  {
   "cell_type": "code",
   "execution_count": 7,
   "metadata": {},
   "outputs": [
    {
     "name": "stdout",
     "output_type": "stream",
     "text": [
      "5 training sample documents from each latent topic\n",
      "Topic : 0\n",
      "\t- Arrived in poor condition: I purchased the St. Joseph home sale kit for a friend who has been struggling to sell her house. It wasn't an expensive gift but it was a gift nonetheless. However  the kit was shipped in an ordinary padded envelope and its little cardboard box didn't survive the rigors of the postal service. It was dented and smashed. In addition  the cardboard packaging looked like it had been exposed to moisture  it was slightly puffed in areas and looked old and used. Overall the kit that I received was not in gift-giving condition although the contents were unharmed. It was very disappointing.\n",
      "\t- Damaged DVD: This DVD was damaged and I was not able to view it. It was returned and picked up on 1.4.10 and I have not yet received a credit for it. Please let me know how to proceed and receive my credit so I can purchse another DVD. I was very excited about viewing it and would still like the opty to do so. Thank you.\n",
      "\t- Couldn't find another place to ask  thus this line.: Am looking for the bugle calls commonly used when raising the flag and lowering it. Specifically  I am looking for  To the Colors  and  Retreat  in bugle calls. Do you have it?kwyoung@pol.net\n",
      "\t- A good primer for the topic at hand: I was really hoping for a more detailed time line of the events leading upto the ENIGMA and what eventually lead to the first commercial computers during the late 50s and mid 60s. The author spent a great deal of time detailing the mathematical advances and controversies that spurred the technological advances we see today. Overall the book was mildly interesting  but probably not for the average reader. On the other end of the spectrum it was too much of a primer for anyone with some historical knowledge of mathematics and its part in developing computers.\n",
      "\t- not what I expected: These light bulbs came quickly and I was happy to put them in  but we have had problems with flickering (even after warmed up sometimes)and they DO NOT work on a dimmer switch.\n",
      "-----------------------------\n",
      "\n",
      "\n",
      "Topic : 1\n",
      "\t- A (Diseased) Tree Grows in Brooklyn: I recently read this book for my English class at school. I have enjoyed every other book we have been required to read; however  I strongly disliked this book. From the first chapter I lost interest in the ornate  seemingly endless details. On several occasions I noted incorrect grammar in the book  and even misspellings! Never before have I seen such a poorly written book. I do not recommend this book. I would not call this book a classic.\n",
      "\t- book: Didn't care for book (story) after I received it. Was used for a book club read. We are picky readers.\n",
      "\t- Inadequate Book Description: Book was in nice condition  as stated and it arrived promptly. The big problem was it is for a paralegal and that had not been explained to potential buyers. Consequently  it is inadequate for my purposes ans I have to sell it on.\n",
      "\t- Ten Days That Shook the World: I read a lot of history books and I just found this very boring. I gave up after reading 50%.\n",
      "\t- Couldn't read it: Why would anyone write a book on how to read?? i bought it hoping to learn how to read but what they don't tell you is that you have to read to find out  GRR! I DEMAND A REFUND!!!!!\n",
      "-----------------------------\n",
      "\n",
      "\n",
      "Topic : 2\n",
      "\t- A great movie about how the Americans outfoxed the Germans: The movie was well made and how the Americans thought that they had captured the right person  instead they were mistaken.\n",
      "\t- Good movie - poor technology: The movie would have been fine had the audio and video kept sync. Unfortunately the video got ahead of the audio and I kept having to stop and restart. Also  don't rent an online movie from Amazon until you're ready to watch it. They cut you off the momemt your 48 hours are up.\n",
      "\t- A terrifically well-scored movie: I loved this movie from the opening scenes all the way to the closing credits. Although I'm a big fan of both Williams and Cusack  the soundtrack was what really made the movie for me. Trevor Horne and Hans Zimmer did a tremendous job on this.\n",
      "\t- Rotten Movie: If you're smart  you won't even waste your time on this one. Not only is the movie cliche  it really doesn't make much sense. I never did figure out what the mute boy had to do with anything in the film. I am surprised Morgan Freeman even took part in this horrible movie.\n",
      "\t- Why?... Why?: How they could call this movie  Haloween  I don't know. I understand that was Carpenters Idea  but it was stupid. Micheal Myers is the coolest horror movie killer I can think of  and calling this a sequal to #1  and 2 is an insult to the movies. It wasn't even that scary  and the plot was horrible  even worst than Nightmare on Elm Street  and that is saying something. The only thing I can think of that is good is the director  but he made a terrible mistake with this movie. So I give it a 1 star. For that one factor. People may say this movie is okay and stuff. But a horror movie that has nothing to do with it's prequels  that's not scary almost at all  has a horrible plot  and is just plain stupid  is not worth calling what it is. Dont watch this movie. Maybe  maybe rent it just to see why it is such a bad movie  and then you can tell all your friends that you just saw a horrible movie. Well  that's all I have to say.\n",
      "-----------------------------\n",
      "\n",
      "\n",
      "Topic : 3\n",
      "\t- Nice album.: I like all the songs on this album. I often use it to warm up before a dance workout. It's nice combination of slow and fast music. Gypsy Caravan rocks!\n",
      "\t- Just wonderful!!!: It is so nice to listen to a cd without the usual AI overproducing touches. This is music to not only enjoy listen to but music that you feel!! The songs are so real and heartfelt and I am just enjoying this cd so much. I haven't felt this way about a cd in a long time. There is something for everybody. ballads  r&b;  and even some dance mixes.This album will become a classic for me.....\n",
      "\t- Jewel has an awesome voice: Jewel's christmas collection is awesome  she really hits those notes  this is an awesome cd for anyone who loves music. Donna\n",
      "\t- More people need to know this man's music!: I had heard about Ray Lamontagne from watching American Idol...which I'm sure is a strange place to hear about an indie artist. However  after hearing a few contestants sing Trouble  I wanted to listen to the original version. I was very impressed when I listened to the other songs on this album. The songs are very well-written  and they are so catchy that I find myself singing the lyrics for days. My favorites on this album are Hannah  Jolene  and Trouble. However  all of the songs are solid and the album is very cohesive. I am excited about hearing more of his music!\n",
      "\t- This cd is really cool..give him a break: I love Musiq ( even when he had the Soulchild  don't get me wrong all the songs aren't hits BUT for the most part he is doing his thing on this album. Cut my man a break  he is trying and I look forward to his new album. I love his voice  his music and him in general. The tracks that are my fav's are:InfatueightiesWhoknowsFortheNightYouknowyoulovemeMomentinlifeWomanopolyBuy  borrow(from a friend or Library) this Cd it's mellow like the way Neo-soul is supposed to be.Toodles \n",
      "-----------------------------\n",
      "\n",
      "\n",
      "Topic : 4\n",
      "\t- Great compressor!: This is a great compressor  it has pently of power to drive brads and finish nails.\n",
      "\t- TiVo: Got this to have at my son's house when I visit. I love it! They love it too! Easily set up  never miss a show again!!\n",
      "\t- educationally enchanting: my granddaughter who is 7 loved this video. i also enjoyed it. it gives you a perspective on how we're encroaching on what should be protected.\n",
      "\t- Great Tea: This is a great tea and you can even sprinkle in a little hot chocoate & cool whip and it is even better yet!\n",
      "\t- Gods and Kings: Chronicles of the Kings # was a great introduction to the series. I gained a different insight into the History\n",
      "-----------------------------\n",
      "\n",
      "\n",
      "Topic : 5\n",
      "\t- Okay CD but not as good as I'd expected: I had heard so much hype about Fantasia that I expected her CD to be better than this. Contrary to reports she is not and never will be another Whitney Houston.\n",
      "\t- Not a Wasted Note: A masterpiece of vision  execution  and expression. WYWH trancends staple rock 'n roll to pure artform  without pretention. So hauntingly beautiful and bittersweet  I still get chills and hear new facets of the compositions after thousands of listenings. If I could only own one rock CD (no  ANY CD) this would be the one. Production notes: I have compared all the different CD pressings  including remasters  and my recommendation is the Fidelity Labs gold CD -- without question. Of course  if you have reel-to-reel...\n",
      "\t- Coastline and Inland...: I bought this CD hoping for peaceful shoreline sounds my infant could sleep to but was disappointed because after 20 minutes you don't hear the ocean at all; instead  it sounds like you're in the amazon listening to the local bird population. To be honest after hitting the  bird  section I always started the CD over and never found out if we return to the coast. If you are looking for authentic nature sound effects this is nice  but if you want a white noise wave CD you should find something else.\n",
      "\t- SCAN DISK SANSA MP3 PLAYER: THE ITEM BECAME DEFECTIVE AND AMAZON REPLACED THE ITEM WITH NO COST TO ME \n",
      "\t- Horrible Video Quality: I love the Hunt for Red October and the makers of the DVD did it a horrible injustice. The video quality is horrible. I tend to buy DVDs for the enhanced video quality  but save your money on this one. Just buy the VHS version and save your money because it is not worth it.\n",
      "-----------------------------\n",
      "\n",
      "\n"
     ]
    }
   ],
   "source": [
    "topic_matrix = lsa_model.transform(train_data)\n",
    "y = np.argmax(topic_matrix,axis=1)\n",
    "print('5 training sample documents from each latent topic')\n",
    "print_samples(y,train_raw)"
   ]
  },
  {
   "cell_type": "markdown",
   "metadata": {},
   "source": [
    "## 4. การนำไปใช้\n",
    "- [Unsupervised Machine Learning] ใช้ matrix V.T (lsa_model.components_.T) บน new data เพื่อให้ทราบ hidden topic ของ new data(matrix U) เพื่อจัดกลุ่มตาม latent topic\n",
    "- [Dimensionality Reduction for Supervised Machine Learning] ปรับ n_components ของ TruncatedSVD(n_components=5) ตามสมควรเพื่อลด dimension ของ data(เดิมเป็น document - terms) เป็น document - latent topic(matrix U) เพื่อใช้เป็น features ในกระบวนการ classification ต่อไป"
   ]
  },
  {
   "cell_type": "code",
   "execution_count": 8,
   "metadata": {},
   "outputs": [
    {
     "name": "stdout",
     "output_type": "stream",
     "text": [
      "Upto 5 testing sample documents from each latent topic\n",
      "Topic : 0\n",
      "\t- Good matt nude lipstick: It's got a nice warm scent of vanilla-like smell. Texture is creamy. Meadow Sweet is a nice nude color. Can't apply too much or else it'll look a bit dry.\n",
      "\t- fireplace tool set: Good product. Got it in a timely manner. Does exactly what it is supposed to do. Not too expensive and just as good as the rest of the tools that are over priced. The tools work great and have been used a lot this winter.\n",
      "\t- Persuasive book with an unusual approach: The book details many or most of the important dynamics of the war as it took place within a single provice. In the process Bergerud reveals much about what is important to know about the war as a whole.For me personally this is possibly the most important Vietnam book I've read. This is because it provided me a framework for understanding the war  from the beginning of American involvement to the end  that I still use.For many readers  this could be an important first book to read about Vietnam and America's relations to it.\n",
      "\t- Lights out on this awful film: I went to see this with the hope of getting Revenge of the Fallen's bad taste out of my mouth.Fission MailedWhere to begin? The plot  while being nowhere near as  immature  as ROTF  still suffered from being clogged with too much filler and not making much sense. It's an overlong mess with the CGI eye candy being the only redeeming factor of this film. It's clear that Bay knows how to make a big budget action film with explosions aplenty  but he cannot write a decent script for these movies to save his life. It's not his forté and hasn't been since The Rock. The movie peaks with a huge  final battle in Chicago that is nuts  but you will just be wanting it to be over with by the time it finally takes place. The 3D is well used in spots  but that cannot make up for the fact that almost everything in it is just a letdown. Do not buy unless you really want to complete your collection.\n",
      "\t- CO alarm: Easy product to install. No fuss. Plug it in. It is out of sight behind a couch. I am satisfied.j.\n",
      "-----------------------------\n",
      "\n",
      "\n",
      "Topic : 1\n",
      "\t- worst book in the world!!!!!!!!!!!!!!!!!!!!!!!!!!!!!!!!!!!!: This was the worst book I have ever read in my entire life! I was forced to read it for school. It was complicated and very boring. I would not recommend this book to anyone!! Please don't waste your time and money to read this book!! Read something else!!\n",
      "\t- Excellent.....REALLY: Once I recovered from the eye strain at the tiny print  I realized I'd just read an earth shattering book on Wicca and Witchcraft. Taken in hand  with all the books with bad history  this book fixes them all. Just rip out the history section in every book you have and glue this book in its place.It is unapologetically Modernistic  with the sources to back it up.EXCELLENT  really  EXCELLENT.\n",
      "\t- Creepy: The creepiest book I've ever read! It's a creepy mystery/romance all in one creepy book! I would read it again lol\n",
      "\t- The Haiku Year exemplifies integrating creativity: This small gem of a book can be appreciated not only from a modern poetic viewpoint but also from a philosophical standpoint as a comment on integrating pure creativity into our everyday motions. Read this book and be prepared to question your own thoughts. Perceptions might change after an afternoon with this book...\n",
      "\t- Best witch book i've ever read!!!: Spellbinder was the 1st Night World book I have ever read.I recomended this book to ALL my friends and I recomend it to you also. L.J. Smith is a very talented writer and I plan to read ALL of her books to come.\n",
      "-----------------------------\n",
      "\n",
      "\n",
      "Topic : 2\n",
      "\t- Love this movie: Great movie but no special features on it. Once I opened that movie I noticed that there is a $10off coupon for the 3D version that is coming out with special features.\n",
      "\t- The movie itself is ok  the streaming for it was crap.: The movie wouldn't play steadily. I had to watch this on Netflix later.An error kept popping up saying my internet connection wasn't fast enough to play the movie.My internet connection was fine. I had watched movies before and after  and when I checked online with Amazon's customer service page  I more than all the minimum requirements.This is the first time I've had problems streaming with Amazon  but it was awful. Every 10-15  the movie would stop and pop up the error message. I tried restarting the app  restarting my PS3  and no luck.\n",
      "\t- transformers: The 3d was awesome in this movie makes the movie even more better. This movie was more darker then the other movies ther some comedy thrown in at the right moment.\n",
      "\t- instant video is mislabeling it's movies as 3d: I did a search for 3d movies on Amazon instant video and this movie came up  but when I purchased it I was disapointed to see that it wasn't 3d. I am writing this review without watching more than 5 minutes of the movie so it's not that the movie is bad. Amazon needs to re-label their 3d movie selection.\n",
      "\t- great book. i loved it! they mentioned a movie  where is it?: the publisher said soon to be a movie. does anyone know if a movie was ever created?\n",
      "-----------------------------\n",
      "\n",
      "\n",
      "Topic : 3\n",
      "\t- What's the big deal?: The only thing interesting about this album is mia's accent. Seriously  the beats her singing is layered over are tired and clichéd. If the vocals on this album were by anyone else it would not be in the top 500. Final Verdict: Bad music.\n",
      "\t- Impressive: One of the few CDs of Asatru music that I actually enjoy. I could quibble with some things in the lyrics which are not quite in line with the lore  but overall I find the music both pleasant and inspiring.This CD draws upon Scandinavian folk music for inspiration for its melodies. With the exception of one track  the lyrics are in English. The lead singer  Andrea Nebel Haugan  can actually sing! Professionally done and melodic.Many of my non-Heathen friends also enjoy listening to this CD.\n",
      "\t- Not what I expected: I should have read what the cd was about. I thought it was just music by Chopin but it was really a lot of soprano singing.\n",
      "\t- Oh  my God! It's Stereolab!!!: Ever since I got this album since last summer  I kept on thinking what this album will sound like. I never wanted to stop listening to this album  because their music is so spectacular. If you heard the first track  Laetitia kinda does the loud humming and someone keeps on playing the synthesizer. It reminds me of the Beatles' eerie song  Revolution 9  from the  White Album.  I could've just imagined while listening to  Baby Lulu  and it makes your mind clear with soothing and beautiful sounds. This is the best album I've ever heard  and I listen to this album while I study and you should listen to this while you're at work or home. Stereolab totally gets your stresses away by listening to them. Bye-Bye! :-)\n",
      "\t- Excellent Album: I have known Kenneth copland since 1973. He has always set very high standards for the recording & prpduction of all his albums. This album is no exception.\n",
      "-----------------------------\n",
      "\n",
      "\n",
      "Topic : 4\n",
      "\t- Transformers: Dark of the moon: All I can say is AWESOME  the family loved it and was so very HAPPY to watch and enjoy on a great family evening  Thanks Bunches!\n",
      "\t- Great Product: A friend recommended this product to flatten the tummy for great look in a dress. I brought a medium according to the measurement guide lines but I needed a small. It was extremely difficult to put on so I needed assistance. Once it was on I was still able to contract my core  which meant that I needed a smaller size. I believe it is because my waist sits high on my torso. Other then that this is great buy.\n",
      "\t- great mattress: I am in Iraq and this mattress is great. It is 100x more comfortable then the things they call mattresses over here.\n",
      "\t- Charlie Brown Christmas: One of my favorite Christmas shows of all time! Great service from the provider.\n",
      "\t- Great Bed for Guests: Bought this for my Grandson to sleep on when the family came to visit over Christmas. It is wonderful. . . super easy to inflate (and deflate) nicely raised off the floor and he said it was very comfortable. Grandma scored a home run on this one!\n",
      "-----------------------------\n",
      "\n",
      "\n",
      "Topic : 5\n",
      "\t- Do Not Buy This Software!: I tried this software as an alternative to ULead's DVD PictureShow. The good news: DVD Photoplay makes it easier to load pictures into a slide show project than ULead's software.The bad news: THE SOFTWARE DOESN'T WORK. I've tested the program on three computers: An IBM Laptop with a HP USB CD Writer  a Dell desktop with an internal CD Writer  and a Sony VAIO desktop with an internal CD Writer. Whenever I tried to write the project to CD  the software failed to recognize my CD Writer on each machine.I emailed customer support  and though I was assured I would receive an answer within 3 days  10 days later I still haven't heard from them.I wish I had kept my receipt so that I could get my money back for this worthless software...\n",
      "\t- Almost perfect CD: The only reason I am giving this CD 4 stars instead of 5  is because it is too short! Lhasa's voice is sultry  sad and powerful. The music is haunting yet airy. Perfection!\n",
      "\t- CUT IT UP DEF: IT'S OLD SCHOOL JAMS!!! I HAVE SEARCHED AND SEARCHED FOR THIS CD FOR THE LONGEST. I HAVE FINALLY FOUND IT!!! NOW I HAVE TO PURCHASE IT.\n",
      "\t- garbage: Complete garbage  the sound quality is horrible  if your going to release a best of cd  record it with something other than a preschool microphone covered with a wet rag.\n",
      "\t- Waste of money!: Like many of the Barbie CD Roms  the playtime is limited - averaging about 5 mins for each of my two daughters (ages 5 & 7). Like the Barbie movies and other CD Roms the graphics are poorly done.\n",
      "-----------------------------\n",
      "\n",
      "\n"
     ]
    }
   ],
   "source": [
    "# [Unsupervised Machine Learning] ใช้ matrix V.T (lsa_model.components_.T) บน new data เพื่อให้ทราบ hidden topic ของ new data(matrix U) เพื่อจัดกลุ่มตาม latent topic\n",
    "test_data, vectorizer= transform(test_raw.content,vectorizer = vectorizer)\n",
    "#สามารถใช้ np.dot(test_data.toarray(),lsa_model.components_.T ) แทน lsa_model.transform(test_data) ได้\n",
    "topic_matrix = lsa_model.transform(test_data)\n",
    "y = np.argmax(topic_matrix,axis=1)\n",
    "print('Upto 5 testing sample documents from each latent topic')\n",
    "print_samples(y,test_raw)"
   ]
  },
  {
   "cell_type": "markdown",
   "metadata": {},
   "source": [
    "สำหรับ [Dimensionality Reduction for Supervised Machine Learning] ปรับ n_components ของ TruncatedSVD(n_components=5) ตามสมควร<br>เพื่อลด dimension ของ data(เดิมเป็น document - terms) เป็น document - latent topic เพื่อใช้เป็น features ในกระบวนการ classification ต่อไป<br>\n",
    "โดยบรรทัดต่อไปนี้จะทำการทำ<br>\n",
    "1. ใช้ SVD เพื่อลดจำนวน dimension ลงเหลือ7000 dimension \n",
    "2. นำ matrix U ที่ได้ไปใช้เป็น features ของการทำ KNN Classifier"
   ]
  },
  {
   "cell_type": "code",
   "execution_count": 9,
   "metadata": {},
   "outputs": [
    {
     "name": "stdout",
     "output_type": "stream",
     "text": [
      "Original dimension: (19500, 35076)\n",
      "New dimension: (19500, 7000)\n"
     ]
    }
   ],
   "source": [
    "#Reduce dimension to 70000 dimensions\n",
    "lsa_model2 = TruncatedSVD(n_components=7000)\n",
    "lsa_model2.fit(train_data)\n",
    "features_lsa = lsa_model2.transform(train_data)\n",
    "y_label = train_raw.label.tolist()\n",
    "print('Original dimension:', train_data.shape)\n",
    "print('New dimension:',features_lsa.shape)"
   ]
  },
  {
   "cell_type": "code",
   "execution_count": 10,
   "metadata": {},
   "outputs": [
    {
     "data": {
      "text/plain": [
       "KNeighborsClassifier(algorithm='auto', leaf_size=30, metric='minkowski',\n",
       "           metric_params=None, n_jobs=None, n_neighbors=5, p=2,\n",
       "           weights='uniform')"
      ]
     },
     "execution_count": 10,
     "metadata": {},
     "output_type": "execute_result"
    }
   ],
   "source": [
    "#create model from tf-idf as a baseline\n",
    "clf_tfidf = KNeighborsClassifier()\n",
    "clf_tfidf.fit(X=train_data,y=y_label)\n",
    "\n",
    "#create model from lsa_feature\n",
    "clf_lsa = KNeighborsClassifier()\n",
    "clf_lsa.fit(X=features_lsa,y=y_label)"
   ]
  },
  {
   "cell_type": "code",
   "execution_count": 11,
   "metadata": {},
   "outputs": [],
   "source": [
    "#Actual y\n",
    "y_test = test_raw.label.tolist()\n",
    "\n",
    "#Transform data to reduce dimension to 70000 dimension(same as feature_lsa)\n",
    "test_data_lsa = lsa_model2.transform(test_data)"
   ]
  },
  {
   "cell_type": "code",
   "execution_count": 12,
   "metadata": {},
   "outputs": [
    {
     "name": "stdout",
     "output_type": "stream",
     "text": [
      "Accuracy of KNN with TF-IDF:  0.71\n",
      "Accuracy of KNN with LSA:  0.71\n"
     ]
    }
   ],
   "source": [
    "#Perform the model prediction\n",
    "y_pred_tfidf = clf_tfidf.predict(test_data)\n",
    "y_pred_lsa = clf_lsa.predict(test_data_lsa)\n",
    "\n",
    "#Compare accuracy of both model\n",
    "print('Accuracy of KNN with TF-IDF: ',accuracy_score(y_test, y_pred_tfidf))\n",
    "print('Accuracy of KNN with LSA: ',accuracy_score(y_test, y_pred_lsa))"
   ]
  }
 ],
 "metadata": {
  "kernelspec": {
   "display_name": "Python 3",
   "language": "python",
   "name": "python3"
  },
  "language_info": {
   "codemirror_mode": {
    "name": "ipython",
    "version": 3
   },
   "file_extension": ".py",
   "mimetype": "text/x-python",
   "name": "python",
   "nbconvert_exporter": "python",
   "pygments_lexer": "ipython3",
   "version": "3.7.0"
  }
 },
 "nbformat": 4,
 "nbformat_minor": 2
}
